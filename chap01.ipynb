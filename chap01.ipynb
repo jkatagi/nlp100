{
 "cells": [
  {
   "cell_type": "code",
   "execution_count": 23,
   "metadata": {},
   "outputs": [
    {
     "name": "stdout",
     "output_type": "stream",
     "text": [
      "desserts\n",
      "desserts\n",
      "desserts\n"
     ]
    }
   ],
   "source": [
    "# 00\n",
    "str_00 = \"stressed\"\n",
    "\n",
    "reversed_str_00 = \"\"\n",
    "for i in range(len(str_00)):\n",
    "    reversed_str_00 += str_00[-1 -i]\n",
    "print(reversed_str_00)\n",
    "\n",
    "reversed_str_00 = str_00[::-1]\n",
    "print(reversed_str_00)\n",
    "\n",
    "\n",
    "reversed_str_00 = \"\"\n",
    "str_00_list = [s for s in str_00]\n",
    "reversed_str_00_list = reversed(str_00_list)\n",
    "for s in reversed_str_00_list:\n",
    "    reversed_str_00 += s\n",
    "print(reversed_str_00)"
   ]
  },
  {
   "cell_type": "code",
   "execution_count": 27,
   "metadata": {},
   "outputs": [
    {
     "name": "stdout",
     "output_type": "stream",
     "text": [
      "パトカー\n"
     ]
    }
   ],
   "source": [
    "# 01\n",
    "patoca = \"パタトクカシーー\"\n",
    "print(patoca[0] + patoca[2] + patoca[4] + patoca[6])"
   ]
  },
  {
   "cell_type": "code",
   "execution_count": 30,
   "metadata": {},
   "outputs": [
    {
     "name": "stdout",
     "output_type": "stream",
     "text": [
      "パタトクカシーー\n"
     ]
    }
   ],
   "source": [
    "# 02\n",
    "patrol = \"パトカー\"\n",
    "taxi = \"タクシー\"\n",
    "\n",
    "patoca = \"\"\n",
    "for i in range(max(len(patrol), len(taxi))):\n",
    "    patoca += patrol[i]\n",
    "    patoca += taxi[i]\n",
    "print(patoca)"
   ]
  },
  {
   "cell_type": "code",
   "execution_count": 36,
   "metadata": {},
   "outputs": [
    {
     "data": {
      "text/plain": [
       "['N', 'I', 'n', 'a', 'd', 'a', 'o', 'c', 'a', 't', 'h', 'l', 'i', 'q', 'm']"
      ]
     },
     "execution_count": 36,
     "metadata": {},
     "output_type": "execute_result"
    }
   ],
   "source": [
    "# 03\n",
    "sentence = \"Now I need a drink, alcoholic of course, after the heavy lectures involving quantum mechanics.\"\n",
    "sentence_list = sentence.split(\" \")\n",
    "[s[0] for s in sentence_list]"
   ]
  },
  {
   "cell_type": "code",
   "execution_count": 10,
   "metadata": {},
   "outputs": [
    {
     "name": "stdout",
     "output_type": "stream",
     "text": [
      "{1: 'H', 2: 'He', 3: 'Li', 4: 'Be', 5: 'B', 6: 'C', 7: 'N', 8: 'O', 9: 'F', 10: 'Ne', 11: 'Na', 12: 'Mi', 13: 'Al', 14: 'Si', 15: 'P', 16: 'S', 17: 'Cl', 18: 'Ar', 19: 'K', 20: 'Ca'}\n"
     ]
    }
   ],
   "source": [
    "# 04\n",
    "sentence = \"Hi He Lied Because Boron Could Not Oxidize Fluorine. New Nations Might Also Sign Peace Security Clause. Arthur King Can.\"\n",
    "sentence_list = sentence.split(\" \")\n",
    "sentence_dict = {}\n",
    "for (i, word) in enumerate(sentence_list):\n",
    "    if i+1 in [1, 5, 6, 7, 8, 9, 15, 16, 19]:\n",
    "        sentence_dict[i+1] = word[0]\n",
    "    else:\n",
    "        sentence_dict[i+1] = word[0:2]\n",
    "print(sentence_dict)"
   ]
  },
  {
   "cell_type": "code",
   "execution_count": 50,
   "metadata": {},
   "outputs": [
    {
     "name": "stdout",
     "output_type": "stream",
     "text": [
      "{0: 'Iam', 1: 'aman', 2: 'anNLPer', 3: 'NLPer'}\n",
      "{0: 'Ia', 1: 'am', 2: 'ma', 3: 'an', 4: 'nN', 5: 'NL', 6: 'LP', 7: 'Pe', 8: 'er', 9: 'r'}\n"
     ]
    }
   ],
   "source": [
    "# 05\n",
    "\n",
    "def gen_n_gram(sentence: list, word, n):\n",
    "    \"\"\"\n",
    "    word: word n-gram if True else string n-gram\n",
    "    \"\"\"\n",
    "    result = {}\n",
    "    if word:\n",
    "        sentence = \"\".join(sentence)\n",
    "    else:\n",
    "        pass\n",
    "    \n",
    "    for i in range(len(sentence)):\n",
    "        if i+1 != len(sentence):\n",
    "            result[i] = sentence[i] + sentence[i+1]\n",
    "        else:\n",
    "            result[i] = sentence[i]\n",
    "\n",
    "    return result\n",
    "    \n",
    "def n_gram(sentence, word=True, n=2):\n",
    "    if type(sentence) is str:\n",
    "        sentence = sentence.split(\" \")\n",
    "        return gen_n_gram(sentence, word, n)\n",
    "    elif type(sentence) is list:\n",
    "        return gen_n_gram(sentence, word, n)\n",
    "    else:\n",
    "        pass\n",
    "    \n",
    "sentence = \"I am an NLPer\"\n",
    "print(n_gram(sentence, word=False, n=2))\n",
    "print(n_gram(sentence, word=True, n=2))"
   ]
  },
  {
   "cell_type": "code",
   "execution_count": 103,
   "metadata": {},
   "outputs": [
    {
     "name": "stdout",
     "output_type": "stream",
     "text": [
      "True\n",
      "False\n"
     ]
    }
   ],
   "source": [
    "# 06\n",
    "import copy\n",
    "str_x = \"paraparaparadise\"\n",
    "str_y = \"paragraph\"\n",
    "X = set(n_gram(str_x, word=True).values())\n",
    "Y = set(n_gram(str_y, word=True).values())\n",
    "\n",
    "X_and_Y = set([x for x in X if x in Y])\n",
    "\n",
    "X_or_Y = copy.deepcopy(X)\n",
    "for y in Y:\n",
    "    X_or_Y.add(y)\n",
    "    \n",
    "X_sub_Y = copy.deepcopy(X)\n",
    "for y in Y:\n",
    "    if y in X_sub_Y:\n",
    "        X_sub_Y.remove(y)\n",
    "        \n",
    "Y_sub_X = copy.deepcopy(Y)\n",
    "for x in X:\n",
    "    if x in Y_sub_X:\n",
    "        Y_sub_X.remove(x)\n",
    "        \n",
    "print('se' in X)\n",
    "print('se' in Y)"
   ]
  },
  {
   "cell_type": "code",
   "execution_count": 106,
   "metadata": {},
   "outputs": [
    {
     "data": {
      "text/plain": [
       "'12時の気温は22.4'"
      ]
     },
     "execution_count": 106,
     "metadata": {},
     "output_type": "execute_result"
    }
   ],
   "source": [
    "# 07\n",
    "def gen_sentence(x, y, z):\n",
    "    return f'{x}時の{y}は{z}'\n",
    "\n",
    "gen_sentence(x=12, y=\"気温\", z=22.4)"
   ]
  },
  {
   "cell_type": "code",
   "execution_count": 35,
   "metadata": {},
   "outputs": [
    {
     "name": "stdout",
     "output_type": "stream",
     "text": [
      "Tpoe oe w テecト\n",
      "This is a テsuト\n"
     ]
    }
   ],
   "source": [
    "# 08\n",
    "import re\n",
    "\n",
    "def cipher(words: str):\n",
    "    words_list = words.split(\" \")\n",
    "    regex = r'[a-z]'\n",
    "    cipher_list = []\n",
    "    for word in words_list:\n",
    "        cipher_word = \"\"\n",
    "        for string in word:\n",
    "            match = re.match(regex, string)\n",
    "            if match:\n",
    "                cipher_word += chr(216 - ord(string))\n",
    "            else:\n",
    "                cipher_word += string\n",
    "        cipher_list.append(cipher_word)\n",
    "    return \" \".join(cipher_list)\n",
    "\n",
    "\n",
    "words = \"This is a テsuト\"\n",
    "print(cipher(words))\n",
    "print(cipher(cipher(words)))"
   ]
  },
  {
   "cell_type": "code",
   "execution_count": 54,
   "metadata": {},
   "outputs": [
    {
     "name": "stdout",
     "output_type": "stream",
     "text": [
      "I couldn't believe that I could actually understand what I was reading : the phenomenal power of the human mind .\n",
      "I cuoldn't belviee that I cuold acltauly usanedrntd what I was rianedg : the peenmnohal pweor of the human mind .\n"
     ]
    }
   ],
   "source": [
    "#09\n",
    "import random\n",
    "def typoglycemia(words: str):\n",
    "    words_list = words.split(\" \")\n",
    "    shuffled_list = []\n",
    "    for word in words_list:\n",
    "        if len(word)  <= 4:\n",
    "            shuffled_list.append(word)\n",
    "        else:\n",
    "            head  = word[0]\n",
    "            middle = word[1:-1]\n",
    "            tail = word[-1]\n",
    "            shuffled_middle = ''.join(random.sample(middle, len(middle)))\n",
    "            shuffled_word = head + shuffled_middle + tail\n",
    "            shuffled_list.append(shuffled_word)\n",
    "    return \" \".join(shuffled_list)\n",
    "\n",
    "words = \"I couldn't believe that I could actually understand what I was reading : the phenomenal power of the human mind .\"\n",
    "print(words)\n",
    "print(typoglycemia(words))"
   ]
  },
  {
   "cell_type": "code",
   "execution_count": null,
   "metadata": {},
   "outputs": [],
   "source": []
  }
 ],
 "metadata": {
  "kernelspec": {
   "display_name": "Python 3",
   "language": "python",
   "name": "python3"
  },
  "language_info": {
   "codemirror_mode": {
    "name": "ipython",
    "version": 3
   },
   "file_extension": ".py",
   "mimetype": "text/x-python",
   "name": "python",
   "nbconvert_exporter": "python",
   "pygments_lexer": "ipython3",
   "version": "3.6.5"
  }
 },
 "nbformat": 4,
 "nbformat_minor": 2
}
